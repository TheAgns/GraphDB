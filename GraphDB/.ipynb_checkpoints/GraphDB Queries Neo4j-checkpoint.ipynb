{
 "cells": [
  {
   "cell_type": "code",
   "execution_count": null,
   "id": "89b0465d",
   "metadata": {},
   "outputs": [],
   "source": [
    "from neo4j import GraphDatabase, basic_auth\n",
    "\n",
    "uri = \"bolt://localhost:7687\"\n",
    "user = \"xxxxx\"\n",
    "password = \"xxxxxx\"\n",
    "driver = GraphDatabase.driver(uri, auth=basic_auth(user, password))\n",
    "\n",
    "with driver.session() as session:\n",
    "    result = session.run(\"MATCH (n) RETURN n LIMIT 10\")\n",
    "\n",
    "    for record in result:\n",
    "        node = record[\"n\"]\n",
    "        print(list(node.labels)[0], \":\", node[\"name\"])\n",
    "\n",
    "driver.close()"
   ]
  }
 ],
 "metadata": {
  "kernelspec": {
   "display_name": "Python 3 (ipykernel)",
   "language": "python",
   "name": "python3"
  },
  "language_info": {
   "codemirror_mode": {
    "name": "ipython",
    "version": 3
   },
   "file_extension": ".py",
   "mimetype": "text/x-python",
   "name": "python",
   "nbconvert_exporter": "python",
   "pygments_lexer": "ipython3",
   "version": "3.9.13"
  }
 },
 "nbformat": 4,
 "nbformat_minor": 5
}
